{
 "cells": [
  {
   "cell_type": "markdown",
   "id": "9d736221-b4f6-4974-a00d-e8d676cdc534",
   "metadata": {},
   "source": [
    "### Importing Packages"
   ]
  },
  {
   "cell_type": "code",
   "execution_count": 91,
   "id": "2fd979f2-3436-429a-9040-67adffdd3375",
   "metadata": {},
   "outputs": [],
   "source": [
    "import pandas as pd\n",
    "import numpy as np\n",
    "import matplotlib.pyplot as plt\n",
    "import seaborn as sns"
   ]
  },
  {
   "cell_type": "markdown",
   "id": "6fa827e2-de92-4596-9b7b-b6dd199c40a2",
   "metadata": {},
   "source": [
    "# Q4\n",
    "Using the pandas read_csv() method, read the GDP dataset into your notebook as a DataFrame called gdp_df. Take a look at the first few and last few rows to familiarize yourself with what is contained in this dataset."
   ]
  },
  {
   "cell_type": "code",
   "execution_count": 92,
   "id": "1c4d1c1c-1407-4069-8b61-c2e28faab328",
   "metadata": {},
   "outputs": [
    {
     "data": {
      "text/html": [
       "<div>\n",
       "<style scoped>\n",
       "    .dataframe tbody tr th:only-of-type {\n",
       "        vertical-align: middle;\n",
       "    }\n",
       "\n",
       "    .dataframe tbody tr th {\n",
       "        vertical-align: top;\n",
       "    }\n",
       "\n",
       "    .dataframe thead th {\n",
       "        text-align: right;\n",
       "    }\n",
       "</style>\n",
       "<table border=\"1\" class=\"dataframe\">\n",
       "  <thead>\n",
       "    <tr style=\"text-align: right;\">\n",
       "      <th></th>\n",
       "      <th>Country or Area</th>\n",
       "      <th>Year</th>\n",
       "      <th>Value</th>\n",
       "      <th>Value Footnotes</th>\n",
       "    </tr>\n",
       "  </thead>\n",
       "  <tbody>\n",
       "    <tr>\n",
       "      <th>0</th>\n",
       "      <td>Afghanistan</td>\n",
       "      <td>2021</td>\n",
       "      <td>1517.016266</td>\n",
       "      <td>NaN</td>\n",
       "    </tr>\n",
       "    <tr>\n",
       "      <th>1</th>\n",
       "      <td>Afghanistan</td>\n",
       "      <td>2020</td>\n",
       "      <td>1968.341002</td>\n",
       "      <td>NaN</td>\n",
       "    </tr>\n",
       "    <tr>\n",
       "      <th>2</th>\n",
       "      <td>Afghanistan</td>\n",
       "      <td>2019</td>\n",
       "      <td>2079.921861</td>\n",
       "      <td>NaN</td>\n",
       "    </tr>\n",
       "    <tr>\n",
       "      <th>3</th>\n",
       "      <td>Afghanistan</td>\n",
       "      <td>2018</td>\n",
       "      <td>2060.698973</td>\n",
       "      <td>NaN</td>\n",
       "    </tr>\n",
       "    <tr>\n",
       "      <th>4</th>\n",
       "      <td>Afghanistan</td>\n",
       "      <td>2017</td>\n",
       "      <td>2096.093111</td>\n",
       "      <td>NaN</td>\n",
       "    </tr>\n",
       "  </tbody>\n",
       "</table>\n",
       "</div>"
      ],
      "text/plain": [
       "  Country or Area  Year        Value  Value Footnotes\n",
       "0     Afghanistan  2021  1517.016266              NaN\n",
       "1     Afghanistan  2020  1968.341002              NaN\n",
       "2     Afghanistan  2019  2079.921861              NaN\n",
       "3     Afghanistan  2018  2060.698973              NaN\n",
       "4     Afghanistan  2017  2096.093111              NaN"
      ]
     },
     "execution_count": 92,
     "metadata": {},
     "output_type": "execute_result"
    }
   ],
   "source": [
    "#Importing and previewing the CSV \n",
    "\n",
    "gdp_df = pd.read_csv('../data/gdp_percapita.csv')\n",
    "\n",
    "gdp_df.head()"
   ]
  },
  {
   "cell_type": "markdown",
   "id": "a4fed938-3c00-494f-9d6c-f1ec7741a909",
   "metadata": {},
   "source": []
  },
  {
   "cell_type": "markdown",
   "id": "8f78ab71-a70b-4599-9141-ad5554cc2ff1",
   "metadata": {},
   "source": [
    "# Q5\n",
    "How many rows and columns are in gdp_df? What are the data types of each column?"
   ]
  },
  {
   "cell_type": "code",
   "execution_count": 93,
   "id": "3b0d154b-88bb-46c1-97df-9c88d2992adc",
   "metadata": {},
   "outputs": [
    {
     "name": "stdout",
     "output_type": "stream",
     "text": [
      "<class 'pandas.core.frame.DataFrame'>\n",
      "RangeIndex: 7662 entries, 0 to 7661\n",
      "Data columns (total 4 columns):\n",
      " #   Column           Non-Null Count  Dtype  \n",
      "---  ------           --------------  -----  \n",
      " 0   Country or Area  7662 non-null   object \n",
      " 1   Year             7662 non-null   int64  \n",
      " 2   Value            7662 non-null   float64\n",
      " 3   Value Footnotes  0 non-null      float64\n",
      "dtypes: float64(2), int64(1), object(1)\n",
      "memory usage: 239.6+ KB\n"
     ]
    }
   ],
   "source": [
    "#Finding # rows/columns and data types\n",
    "\n",
    "gdp_df.info()"
   ]
  },
  {
   "cell_type": "markdown",
   "id": "b6785d93-c576-4dbb-832c-ef869711af80",
   "metadata": {},
   "source": [
    "# Answer: \n",
    "4 columns, 7662 rows. Data types are object, int64, and float64."
   ]
  },
  {
   "cell_type": "markdown",
   "id": "84f8ee5f-85a4-49a1-a6af-fe1c05b314b3",
   "metadata": {},
   "source": [
    "# Q6\n",
    "Drop the Value Footnotes column and rename the remaining three to 'Country', 'Year', and 'GDP_Per_Capita'."
   ]
  },
  {
   "cell_type": "code",
   "execution_count": 94,
   "id": "9658f463-07d8-4dfb-845b-8d888dea0286",
   "metadata": {},
   "outputs": [],
   "source": [
    "gdp_df = gdp_df.drop(columns='Value Footnotes')\\\n",
    "               .rename(columns={'Country or Area':'Country', \n",
    "                                'Value':'GDP_Per_Capita'})"
   ]
  },
  {
   "cell_type": "markdown",
   "id": "50064f3e-e254-476e-91ee-92d1eff6d948",
   "metadata": {},
   "source": [
    "# Q7\n",
    "How many countries have data for all years? Which countries are missing many years of data? Look at the number of observations per year. What do you notice?"
   ]
  },
  {
   "cell_type": "code",
   "execution_count": 95,
   "id": "269287d3-279f-416d-a69f-cef9e44aa2ae",
   "metadata": {},
   "outputs": [],
   "source": [
    "#Count of years for each country\n",
    "\n",
    "#Creating series that counts # unique years for each country, turning the series into a DataFrame and naming columns\n",
    "\n",
    "num_years = gdp_df.groupby('Country')['Year']\\\n",
    "                  .count()\\\n",
    "                  .to_frame()\\\n",
    "                  .rename(columns={'Year':'Num_Years'})\\\n",
    "                  .reset_index()\n",
    "\n",
    "#Should I be setting index to column?"
   ]
  },
  {
   "cell_type": "code",
   "execution_count": 96,
   "id": "f6550061-ef8b-46d8-b783-94c7e311be79",
   "metadata": {},
   "outputs": [
    {
     "data": {
      "text/html": [
       "<div>\n",
       "<style scoped>\n",
       "    .dataframe tbody tr th:only-of-type {\n",
       "        vertical-align: middle;\n",
       "    }\n",
       "\n",
       "    .dataframe tbody tr th {\n",
       "        vertical-align: top;\n",
       "    }\n",
       "\n",
       "    .dataframe thead th {\n",
       "        text-align: right;\n",
       "    }\n",
       "</style>\n",
       "<table border=\"1\" class=\"dataframe\">\n",
       "  <thead>\n",
       "    <tr style=\"text-align: right;\">\n",
       "      <th></th>\n",
       "      <th>Country</th>\n",
       "      <th>Num_Years</th>\n",
       "    </tr>\n",
       "  </thead>\n",
       "  <tbody>\n",
       "    <tr>\n",
       "      <th>1</th>\n",
       "      <td>Africa Eastern and Southern</td>\n",
       "      <td>33</td>\n",
       "    </tr>\n",
       "    <tr>\n",
       "      <th>2</th>\n",
       "      <td>Africa Western and Central</td>\n",
       "      <td>33</td>\n",
       "    </tr>\n",
       "    <tr>\n",
       "      <th>3</th>\n",
       "      <td>Albania</td>\n",
       "      <td>33</td>\n",
       "    </tr>\n",
       "    <tr>\n",
       "      <th>4</th>\n",
       "      <td>Algeria</td>\n",
       "      <td>33</td>\n",
       "    </tr>\n",
       "    <tr>\n",
       "      <th>5</th>\n",
       "      <td>Angola</td>\n",
       "      <td>33</td>\n",
       "    </tr>\n",
       "    <tr>\n",
       "      <th>...</th>\n",
       "      <td>...</td>\n",
       "      <td>...</td>\n",
       "    </tr>\n",
       "    <tr>\n",
       "      <th>236</th>\n",
       "      <td>Vanuatu</td>\n",
       "      <td>33</td>\n",
       "    </tr>\n",
       "    <tr>\n",
       "      <th>237</th>\n",
       "      <td>Viet Nam</td>\n",
       "      <td>33</td>\n",
       "    </tr>\n",
       "    <tr>\n",
       "      <th>239</th>\n",
       "      <td>World</td>\n",
       "      <td>33</td>\n",
       "    </tr>\n",
       "    <tr>\n",
       "      <th>240</th>\n",
       "      <td>Zambia</td>\n",
       "      <td>33</td>\n",
       "    </tr>\n",
       "    <tr>\n",
       "      <th>241</th>\n",
       "      <td>Zimbabwe</td>\n",
       "      <td>33</td>\n",
       "    </tr>\n",
       "  </tbody>\n",
       "</table>\n",
       "<p>202 rows × 2 columns</p>\n",
       "</div>"
      ],
      "text/plain": [
       "                         Country  Num_Years\n",
       "1    Africa Eastern and Southern         33\n",
       "2     Africa Western and Central         33\n",
       "3                        Albania         33\n",
       "4                        Algeria         33\n",
       "5                         Angola         33\n",
       "..                           ...        ...\n",
       "236                      Vanuatu         33\n",
       "237                     Viet Nam         33\n",
       "239                        World         33\n",
       "240                       Zambia         33\n",
       "241                     Zimbabwe         33\n",
       "\n",
       "[202 rows x 2 columns]"
      ]
     },
     "execution_count": 96,
     "metadata": {},
     "output_type": "execute_result"
    }
   ],
   "source": [
    "#Number of countries with data for all years\n",
    "\n",
    "#Finding number of years in dataset\n",
    "\n",
    "max_years = num_years['Num_Years'].max()\n",
    "\n",
    "#Subsetting to find countries with 33 unique years of data\n",
    "\n",
    "all_years = num_years[num_years['Num_Years'] == max_years]\n",
    "\n",
    "all_years"
   ]
  },
  {
   "cell_type": "code",
   "execution_count": 97,
   "id": "d7ec651a-c826-4ffa-8f12-67866f4113a5",
   "metadata": {},
   "outputs": [
    {
     "data": {
      "text/html": [
       "<div>\n",
       "<style scoped>\n",
       "    .dataframe tbody tr th:only-of-type {\n",
       "        vertical-align: middle;\n",
       "    }\n",
       "\n",
       "    .dataframe tbody tr th {\n",
       "        vertical-align: top;\n",
       "    }\n",
       "\n",
       "    .dataframe thead th {\n",
       "        text-align: right;\n",
       "    }\n",
       "</style>\n",
       "<table border=\"1\" class=\"dataframe\">\n",
       "  <thead>\n",
       "    <tr style=\"text-align: right;\">\n",
       "      <th></th>\n",
       "      <th>Country</th>\n",
       "      <th>Num_Years</th>\n",
       "    </tr>\n",
       "  </thead>\n",
       "  <tbody>\n",
       "    <tr>\n",
       "      <th>53</th>\n",
       "      <td>Djibouti</td>\n",
       "      <td>10</td>\n",
       "    </tr>\n",
       "    <tr>\n",
       "      <th>197</th>\n",
       "      <td>Somalia</td>\n",
       "      <td>10</td>\n",
       "    </tr>\n",
       "    <tr>\n",
       "      <th>225</th>\n",
       "      <td>Turks and Caicos Islands</td>\n",
       "      <td>12</td>\n",
       "    </tr>\n",
       "    <tr>\n",
       "      <th>192</th>\n",
       "      <td>Sint Maarten (Dutch part)</td>\n",
       "      <td>14</td>\n",
       "    </tr>\n",
       "    <tr>\n",
       "      <th>112</th>\n",
       "      <td>Kosovo</td>\n",
       "      <td>15</td>\n",
       "    </tr>\n",
       "    <tr>\n",
       "      <th>36</th>\n",
       "      <td>Cayman Islands</td>\n",
       "      <td>16</td>\n",
       "    </tr>\n",
       "    <tr>\n",
       "      <th>154</th>\n",
       "      <td>Nauru</td>\n",
       "      <td>19</td>\n",
       "    </tr>\n",
       "    <tr>\n",
       "      <th>0</th>\n",
       "      <td>Afghanistan</td>\n",
       "      <td>20</td>\n",
       "    </tr>\n",
       "    <tr>\n",
       "      <th>47</th>\n",
       "      <td>CuraÃ§ao</td>\n",
       "      <td>22</td>\n",
       "    </tr>\n",
       "    <tr>\n",
       "      <th>213</th>\n",
       "      <td>SÃ£o TomÃ© and Principe</td>\n",
       "      <td>22</td>\n",
       "    </tr>\n",
       "  </tbody>\n",
       "</table>\n",
       "</div>"
      ],
      "text/plain": [
       "                       Country  Num_Years\n",
       "53                    Djibouti         10\n",
       "197                    Somalia         10\n",
       "225   Turks and Caicos Islands         12\n",
       "192  Sint Maarten (Dutch part)         14\n",
       "112                     Kosovo         15\n",
       "36              Cayman Islands         16\n",
       "154                      Nauru         19\n",
       "0                  Afghanistan         20\n",
       "47                    CuraÃ§ao         22\n",
       "213    SÃ£o TomÃ© and Principe         22"
      ]
     },
     "execution_count": 97,
     "metadata": {},
     "output_type": "execute_result"
    }
   ],
   "source": [
    "#Countries with missing years, sorted with most missing data at the top\n",
    "\n",
    "#Subsetting to find countries with missing years (<33), and sorting to view most missing data at the top\n",
    "\n",
    "missing = num_years[num_years['Num_Years'] < max_years].sort_values('Num_Years')\n",
    "\n",
    "missing.head(10)"
   ]
  },
  {
   "cell_type": "code",
   "execution_count": 98,
   "id": "eda0c31f-a49f-44fb-9ebd-a5c0ae651356",
   "metadata": {},
   "outputs": [
    {
     "data": {
      "image/png": "[encoded data removed]",
      "text/plain": [
       "<Figure size 640x480 with 1 Axes>"
      ]
     },
     "metadata": {},
     "output_type": "display_data"
    }
   ],
   "source": [
    "#Number of observations per year\n",
    "\n",
    "#Creating series, turning into DataFrame, and renaming columns\n",
    "\n",
    "countries_per_year = gdp_df.groupby('Year')['Country'].count().to_frame().rename(columns={'Country':'Num_Countries'})\n",
    "\n",
    "#Setting a style\n",
    "\n",
    "plt.style.use('seaborn-v0_8-dark')\n",
    "\n",
    "#Plotting\n",
    "\n",
    "plt.plot(countries_per_year.index, countries_per_year.Num_Countries)\n",
    "plt.title('Number of Countries per Year Having GDP Data')\n",
    "plt.ylabel('Number of Countries')\n",
    "plt.xlabel('Year')\n",
    "plt.show()"
   ]
  },
  {
   "cell_type": "markdown",
   "id": "eee1dad3-b09b-4ddb-a8c2-5628f52866c2",
   "metadata": {},
   "source": [
    "# Answer:\n",
    "Countries with data for all 33 years: 202\n",
    "\n",
    "Countries missing many years of data: Djibouti and Somalia are missing the most years\n",
    "\n",
    "See plot for # observations per year"
   ]
  },
  {
   "cell_type": "markdown",
   "id": "ff7207af-a2a0-45e8-afa6-57be725c9647",
   "metadata": {},
   "source": [
    "# Q8\n",
    "In this question, you're going to create some plots to show the distribution of GDP per capita for the year 2020. Go to the Python Graph Gallery (https://www.python-graph-gallery.com/) and look at the different types of plots under the Distribution section. Create a histogram, a density plot, a boxplot, and a violin plot. What do you notice when you look at these plots? How do the plots compare and what information can you get out of one type that you can't necessarily get out of the others?"
   ]
  },
  {
   "cell_type": "code",
   "execution_count": 99,
   "id": "fc6436ef-4cff-4831-b493-bec8ab477474",
   "metadata": {},
   "outputs": [],
   "source": [
    "#Subsetting to 2020 data\n",
    "\n",
    "gdp2020 = gdp_df[gdp_df['Year'] == 2020]\n",
    "\n",
    "#Setting theme\n",
    "\n",
    "sns.set_theme(style='dark')"
   ]
  },
  {
   "cell_type": "code",
   "execution_count": 100,
   "id": "2eb59b7b-55ad-4dc1-972f-ac4fe1967f0f",
   "metadata": {},
   "outputs": [
    {
     "name": "stderr",
     "output_type": "stream",
     "text": [
      "/opt/anaconda3/lib/python3.11/site-packages/seaborn/_oldcore.py:1119: FutureWarning: use_inf_as_na option is deprecated and will be removed in a future version. Convert inf values to NaN before operating instead.\n",
      "  with pd.option_context('mode.use_inf_as_na', True):\n"
     ]
    },
    {
     "data": {
      "image/png": "[encoded data removed]",
      "text/plain": [
       "<Figure size 640x480 with 1 Axes>"
      ]
     },
     "metadata": {},
     "output_type": "display_data"
    }
   ],
   "source": [
    "#Histogram\n",
    "\n",
    "sns.histplot(data=gdp2020, \n",
    "             x='GDP_Per_Capita', \n",
    "             bins=30, \n",
    "             kde=True)\\\n",
    "   .set(title='GDP per Capita 2020', \n",
    "        xlabel='GDP per Capita', \n",
    "        ylabel='Frequency')\n",
    "\n",
    "plt.show()"
   ]
  },
  {
   "cell_type": "code",
   "execution_count": 101,
   "id": "0e412a1d-002d-4ca7-9d86-4cf62fc5a409",
   "metadata": {},
   "outputs": [
    {
     "name": "stderr",
     "output_type": "stream",
     "text": [
      "/opt/anaconda3/lib/python3.11/site-packages/seaborn/_oldcore.py:1119: FutureWarning: use_inf_as_na option is deprecated and will be removed in a future version. Convert inf values to NaN before operating instead.\n",
      "  with pd.option_context('mode.use_inf_as_na', True):\n"
     ]
    },
    {
     "data": {
      "image/png": "[encoded data removed]",
      "text/plain": [
       "<Figure size 640x480 with 1 Axes>"
      ]
     },
     "metadata": {},
     "output_type": "display_data"
    }
   ],
   "source": [
    "#Density Plot\n",
    "\n",
    "sns.kdeplot(gdp2020['GDP_Per_Capita'], \n",
    "            fill=True)\\\n",
    "   .set(title='GDP Per Capita 2020', \n",
    "        xlabel='GDP per Capita', \n",
    "        ylabel='Density')\n",
    "\n",
    "plt.show()"
   ]
  },
  {
   "cell_type": "code",
   "execution_count": 102,
   "id": "d3229e8b-55cd-4d26-a8e9-9eda0fb59e99",
   "metadata": {},
   "outputs": [
    {
     "data": {
      "image/png": "[encoded data removed]",
      "text/plain": [
       "<Figure size 640x480 with 1 Axes>"
      ]
     },
     "metadata": {},
     "output_type": "display_data"
    }
   ],
   "source": [
    "#Boxplot\n",
    "\n",
    "sns.boxplot(x=gdp2020['GDP_Per_Capita'], \n",
    "            width=0.3)\\\n",
    "   .set(title='GDP per Capita 2020', \n",
    "        xlabel='GDP per Capita')\n",
    "\n",
    "plt.show()"
   ]
  },
  {
   "cell_type": "code",
   "execution_count": 103,
   "id": "5f92535c-723b-4653-9856-43841ce96377",
   "metadata": {},
   "outputs": [
    {
     "data": {
      "image/png": "[encoded data removed]",
      "text/plain": [
       "<Figure size 640x480 with 1 Axes>"
      ]
     },
     "metadata": {},
     "output_type": "display_data"
    }
   ],
   "source": [
    "#Violin Plot\n",
    "\n",
    "sns.violinplot(x=gdp_df['GDP_Per_Capita'])\\\n",
    "   .set(title='GDP per Capita 2020', \n",
    "        xlabel='GDP per Capita')\n",
    "\n",
    "plt.show()"
   ]
  },
  {
   "cell_type": "markdown",
   "id": "5b3d3830-b4ce-4b06-af1c-f50033eee275",
   "metadata": {},
   "source": [
    "# Answer:\n",
    "Histograms and density plots show the distribution shapes, while boxplots and violin plots show information about central tendency, variability, and outliers within the distribution. Violin are a great middle ground, combining the detailed distribution shape of density plots with the summary statistics of boxplots."
   ]
  },
  {
   "cell_type": "markdown",
   "id": "8f9c303a-6622-40fa-ad22-37e589e7debe",
   "metadata": {},
   "source": [
    "# Q9\n",
    "What was the median GDP per capita value in 2020?"
   ]
  },
  {
   "cell_type": "code",
   "execution_count": 104,
   "id": "9f3fc51b-27ce-4eb7-9e18-e2436015f0fa",
   "metadata": {},
   "outputs": [
    {
     "data": {
      "text/plain": [
       "13357.997573370474"
      ]
     },
     "execution_count": 104,
     "metadata": {},
     "output_type": "execute_result"
    }
   ],
   "source": [
    "gdp2020['GDP_Per_Capita'].median()"
   ]
  },
  {
   "cell_type": "markdown",
   "id": "179442bd-718e-4b41-883c-cdf2639e3b77",
   "metadata": {},
   "source": [
    "# Answer:\n",
    "$13,357.99"
   ]
  },
  {
   "cell_type": "markdown",
   "id": "13f8514e-67e9-4399-aa95-71962f47e24a",
   "metadata": {},
   "source": [
    "# Q10\n",
    "For this question, you're going to create some visualizations to compare GDP per capita values for the years 1990, 2000, 2010, and 2020. Start by subsetting your data to just these 4 years into a new DataFrame named gdp_decades. Using this, create the following 4 plots:\n",
    "\n",
    "- A boxplot\n",
    "- A barplot (check out the Barplot with Seaborn section: https://www.python-graph-gallery.com/barplot/#Seaborn)\n",
    "- A scatterplot\n",
    "- A scatterplot with a trend line overlaid (see this regplot example: https://www.python-graph-gallery.com/42-custom-linear-regression-fit-seaborn)\n",
    "\n",
    "Comment on what you observe has happened to GDP values over time and the relative strengths and weaknesses of each type of plot."
   ]
  },
  {
   "cell_type": "code",
   "execution_count": 105,
   "id": "88fa1b4e-3774-471f-a370-d1ade5616ad1",
   "metadata": {},
   "outputs": [],
   "source": [
    "#Subsetting the data\n",
    "\n",
    "gdp_decades = gdp_df[gdp_df['Year'].isin([1990, 2000, 2010, 2020])]\n",
    "\n",
    "#Setting the theme\n",
    "\n",
    "sns.set_theme(style='dark')"
   ]
  },
  {
   "cell_type": "code",
   "execution_count": 106,
   "id": "cd477f3b-d8ce-4d31-ad37-d363c7d32634",
   "metadata": {},
   "outputs": [
    {
     "data": {
      "image/png": "[encoded data removed]",
      "text/plain": [
       "<Figure size 640x480 with 1 Axes>"
      ]
     },
     "metadata": {},
     "output_type": "display_data"
    }
   ],
   "source": [
    "#Boxplot\n",
    "\n",
    "sns.boxplot(x=gdp_decades['Year'], \n",
    "            y=gdp_decades['GDP_Per_Capita'])\\\n",
    "   .set(title='GDP per Capita by Decade', \n",
    "        xlabel='Year', \n",
    "        ylabel='GDP per Capita')\n",
    "\n",
    "plt.show()"
   ]
  },
  {
   "cell_type": "code",
   "execution_count": 107,
   "id": "977cb5fd-1057-43e7-94f5-a5d2a18ef0d9",
   "metadata": {},
   "outputs": [
    {
     "data": {
      "image/png": "[encoded data removed]",
      "text/plain": [
       "<Figure size 640x480 with 1 Axes>"
      ]
     },
     "metadata": {},
     "output_type": "display_data"
    }
   ],
   "source": [
    "#Barplot\n",
    "\n",
    "sns.barplot(x=gdp_decades['Year'], \n",
    "            y=gdp_decades['GDP_Per_Capita'])\\\n",
    "   .set(title='GDP per Capita by Decade', \n",
    "        xlabel='Year', \n",
    "        ylabel='GDP per Capita')\n",
    "\n",
    "plt.show()"
   ]
  },
  {
   "cell_type": "code",
   "execution_count": 108,
   "id": "acb1b636-3a17-4d3a-8a11-f5d9e07e993c",
   "metadata": {},
   "outputs": [
    {
     "data": {
      "image/png": "[encoded data removed]",
      "text/plain": [
       "<Figure size 640x480 with 1 Axes>"
      ]
     },
     "metadata": {},
     "output_type": "display_data"
    }
   ],
   "source": [
    "#Scatterplot\n",
    "\n",
    "sns.scatterplot(x=gdp_decades['Year'], \n",
    "                y=gdp_decades['GDP_Per_Capita'], \n",
    "                alpha=.3)\\\n",
    "   .set(title='GDP per Capita by Decade', \n",
    "        xlabel='Year', \n",
    "        ylabel='GDP per Capita')\n",
    "\n",
    "plt.show()"
   ]
  },
  {
   "cell_type": "code",
   "execution_count": 109,
   "id": "38c4d49e-d836-457e-8cb2-912251f7164c",
   "metadata": {},
   "outputs": [
    {
     "data": {
      "image/png": "[encoded data removed]",
      "text/plain": [
       "<Figure size 640x480 with 1 Axes>"
      ]
     },
     "metadata": {},
     "output_type": "display_data"
    }
   ],
   "source": [
    "#Scatterplot with trendline\n",
    "\n",
    "sns.regplot(x=gdp_decades['Year'], \n",
    "            y=gdp_decades['GDP_Per_Capita'], \n",
    "            scatter_kws={\"alpha\": 0.3}, \n",
    "            line_kws={\"color\": \"r\"})\\\n",
    "    .set(title='GDP per Capita by Decade', \n",
    "        xlabel='Year', \n",
    "        ylabel='GDP per Capita')\n",
    "\n",
    "plt.show()"
   ]
  },
  {
   "cell_type": "markdown",
   "id": "5d7ba607-835c-4fda-8aa4-01dad8839cdd",
   "metadata": {},
   "source": [
    "# Answer:\n",
    "GDP is increasing over time.\n",
    "Boxplot: Highlights key summary statistics like median, IQR, quartiles, and outliers, so it is useful for comparing distributions. However, it may oversimplify data and hide finer details - for example it doesn't show individual data points.\n",
    "Barplot: Effectively shows differences across categories but not ideal for visualizing trends over time, better for categorical data. It also does not show much in the way of summary statistics.\n",
    "Scatterplot: Great for exploring relationships between two numerical variables but less suitable for displaying trends over time, especially when time is treated as a numeric variable. The trendline is helpful but this is still not the correct type of plot for the data."
   ]
  },
  {
   "cell_type": "markdown",
   "id": "cb83d350-21bf-45de-ac69-57c3db4d39ba",
   "metadata": {},
   "source": [
    "# Q11\n",
    "Which country was the first to have a GDP per capita greater than $100,000?"
   ]
  },
  {
   "cell_type": "code",
   "execution_count": 110,
   "id": "3b33d223-9e38-4cfb-9911-1f5124b8f3d7",
   "metadata": {},
   "outputs": [
    {
     "data": {
      "text/html": [
       "<div>\n",
       "<style scoped>\n",
       "    .dataframe tbody tr th:only-of-type {\n",
       "        vertical-align: middle;\n",
       "    }\n",
       "\n",
       "    .dataframe tbody tr th {\n",
       "        vertical-align: top;\n",
       "    }\n",
       "\n",
       "    .dataframe thead th {\n",
       "        text-align: right;\n",
       "    }\n",
       "</style>\n",
       "<table border=\"1\" class=\"dataframe\">\n",
       "  <thead>\n",
       "    <tr style=\"text-align: right;\">\n",
       "      <th></th>\n",
       "      <th>Country</th>\n",
       "      <th>Year</th>\n",
       "      <th>GDP_Per_Capita</th>\n",
       "    </tr>\n",
       "  </thead>\n",
       "  <tbody>\n",
       "    <tr>\n",
       "      <th>7302</th>\n",
       "      <td>United Arab Emirates</td>\n",
       "      <td>1990</td>\n",
       "      <td>105893.626059</td>\n",
       "    </tr>\n",
       "  </tbody>\n",
       "</table>\n",
       "</div>"
      ],
      "text/plain": [
       "                   Country  Year  GDP_Per_Capita\n",
       "7302  United Arab Emirates  1990   105893.626059"
      ]
     },
     "execution_count": 110,
     "metadata": {},
     "output_type": "execute_result"
    }
   ],
   "source": [
    "#Subsetting for >100k, sorting by year ascending and viewing the first row\n",
    "\n",
    "gdp_df[gdp_df['GDP_Per_Capita'] > 100000].sort_values('Year').head(1)"
   ]
  },
  {
   "cell_type": "markdown",
   "id": "ca123082-9008-461d-8fd9-cb7713726959",
   "metadata": {},
   "source": [
    "# Answer:\n",
    "United Arab Emirates"
   ]
  },
  {
   "cell_type": "markdown",
   "id": "9b69c6f9-6fea-40ac-9d8c-7400b197b815",
   "metadata": {},
   "source": [
    "# Q12\n",
    "Which country had the highest GDP per capita in 2020? Create a plot showing how this country's GDP per capita has changed over the timespan of the dataset."
   ]
  },
  {
   "cell_type": "code",
   "execution_count": 111,
   "id": "803abae5-39f7-4318-9c27-20f836e8e08f",
   "metadata": {},
   "outputs": [
    {
     "data": {
      "text/html": [
       "<div>\n",
       "<style scoped>\n",
       "    .dataframe tbody tr th:only-of-type {\n",
       "        vertical-align: middle;\n",
       "    }\n",
       "\n",
       "    .dataframe tbody tr th {\n",
       "        vertical-align: top;\n",
       "    }\n",
       "\n",
       "    .dataframe thead th {\n",
       "        text-align: right;\n",
       "    }\n",
       "</style>\n",
       "<table border=\"1\" class=\"dataframe\">\n",
       "  <thead>\n",
       "    <tr style=\"text-align: right;\">\n",
       "      <th></th>\n",
       "      <th>Country</th>\n",
       "      <th>Year</th>\n",
       "      <th>GDP_Per_Capita</th>\n",
       "    </tr>\n",
       "  </thead>\n",
       "  <tbody>\n",
       "    <tr>\n",
       "      <th>4148</th>\n",
       "      <td>Luxembourg</td>\n",
       "      <td>2020</td>\n",
       "      <td>111751.314751</td>\n",
       "    </tr>\n",
       "  </tbody>\n",
       "</table>\n",
       "</div>"
      ],
      "text/plain": [
       "         Country  Year  GDP_Per_Capita\n",
       "4148  Luxembourg  2020   111751.314751"
      ]
     },
     "execution_count": 111,
     "metadata": {},
     "output_type": "execute_result"
    }
   ],
   "source": [
    "#Sorting 2020 DataFrame by GDP descending and viewing the first row to find the highest GDP\n",
    "\n",
    "gdp2020.sort_values('GDP_Per_Capita', ascending=False).head(1)"
   ]
  },
  {
   "cell_type": "code",
   "execution_count": 112,
   "id": "ce4cc3b2-2548-4d0e-b472-c50fe9e6dc4c",
   "metadata": {},
   "outputs": [
    {
     "data": {
      "image/png": "[encoded data removed]",
      "text/plain": [
       "<Figure size 640x480 with 1 Axes>"
      ]
     },
     "metadata": {},
     "output_type": "display_data"
    }
   ],
   "source": [
    "# Subsetting for Luxembourg\n",
    "\n",
    "gdp_lux = gdp_df[gdp_df['Country'] == 'Luxembourg']\n",
    "\n",
    "#Creating a plot\n",
    "\n",
    "plt.plot(gdp_lux.Year, gdp_lux.GDP_Per_Capita)\n",
    "plt.title('Luxembourg GDP per Capita Over Time')\n",
    "plt.ylabel('GDP per Capita')\n",
    "plt.xlabel('Year')\n",
    "plt.show()"
   ]
  },
  {
   "cell_type": "markdown",
   "id": "a17776ff-48a6-4634-891f-de280e7851c7",
   "metadata": {},
   "source": [
    "# Answer:\n",
    "Luxembourg"
   ]
  },
  {
   "cell_type": "markdown",
   "id": "aa78f58e-3728-46bf-9fb1-0626d9aad487",
   "metadata": {},
   "source": [
    "# Q13\n",
    "Which country had the lowest GDP per capita in 2020? Create a plot showing how this country's GDP per capita has changed over the timespan of the dataset. Bonus question: Is it true in general that coutries had a higher GDP per capita in 2020 than in 1990? Which countries had lower GDP per capita in 2020 than in 1990?"
   ]
  },
  {
   "cell_type": "code",
   "execution_count": 113,
   "id": "f00a436f-2769-4c0f-86e3-08747a745da4",
   "metadata": {},
   "outputs": [
    {
     "data": {
      "text/html": [
       "<div>\n",
       "<style scoped>\n",
       "    .dataframe tbody tr th:only-of-type {\n",
       "        vertical-align: middle;\n",
       "    }\n",
       "\n",
       "    .dataframe tbody tr th {\n",
       "        vertical-align: top;\n",
       "    }\n",
       "\n",
       "    .dataframe thead th {\n",
       "        text-align: right;\n",
       "    }\n",
       "</style>\n",
       "<table border=\"1\" class=\"dataframe\">\n",
       "  <thead>\n",
       "    <tr style=\"text-align: right;\">\n",
       "      <th></th>\n",
       "      <th>Country</th>\n",
       "      <th>Year</th>\n",
       "      <th>GDP_Per_Capita</th>\n",
       "    </tr>\n",
       "  </thead>\n",
       "  <tbody>\n",
       "    <tr>\n",
       "      <th>973</th>\n",
       "      <td>Burundi</td>\n",
       "      <td>2020</td>\n",
       "      <td>711.355263</td>\n",
       "    </tr>\n",
       "  </tbody>\n",
       "</table>\n",
       "</div>"
      ],
      "text/plain": [
       "     Country  Year  GDP_Per_Capita\n",
       "973  Burundi  2020      711.355263"
      ]
     },
     "execution_count": 113,
     "metadata": {},
     "output_type": "execute_result"
    }
   ],
   "source": [
    "#Sorting 2020 DataFrame by GDP ascending and viewing the first row to find the lowest GDP\n",
    "\n",
    "gdp2020.sort_values('GDP_Per_Capita').head(1)"
   ]
  },
  {
   "cell_type": "code",
   "execution_count": 114,
   "id": "98ab7372-80e6-4fce-8fb2-87f35d4df0ba",
   "metadata": {},
   "outputs": [
    {
     "data": {
      "image/png": "[encoded data removed]",
      "text/plain": [
       "<Figure size 640x480 with 1 Axes>"
      ]
     },
     "metadata": {},
     "output_type": "display_data"
    }
   ],
   "source": [
    "# Subsetting for Burundi\n",
    "\n",
    "gdp_burundi = gdp_df[gdp_df['Country'] == 'Burundi']\n",
    "\n",
    "#Creating a plot\n",
    "\n",
    "plt.plot(gdp_burundi.Year, gdp_burundi.GDP_Per_Capita)\n",
    "plt.title('Burundi GDP per Capita Over Time')\n",
    "plt.ylabel('GDP per Capita')\n",
    "plt.xlabel('Year')\n",
    "plt.show()"
   ]
  },
  {
   "cell_type": "markdown",
   "id": "74e99034-1c6f-4687-9c9b-5a124a32f869",
   "metadata": {},
   "source": [
    "# Q13 Bonus"
   ]
  },
  {
   "cell_type": "code",
   "execution_count": 115,
   "id": "0ebfddff-12b6-413a-82cb-7ec97718a481",
   "metadata": {},
   "outputs": [],
   "source": [
    "#Filtering to 1990 and 2020, then creating a pivot table to compare years\n",
    "\n",
    "gdp_1990_2020 = gdp_df[gdp_df['Year'].isin([1990, 2020])]\\\n",
    "                                     .pivot(index='Country', \n",
    "                                            columns='Year', \n",
    "                                            values='GDP_Per_Capita')\n",
    "\n",
    "#Adding a Boolean column to identify if a country's GDP increased from 1990 to 2020\n",
    "\n",
    "gdp_1990_2020['GDP_Increase'] = gdp_1990_2020[2020] > gdp_1990_2020[1990]"
   ]
  },
  {
   "cell_type": "code",
   "execution_count": 116,
   "id": "fb721fc0-9f5d-4aea-a010-06c7c2b1b4a5",
   "metadata": {},
   "outputs": [
    {
     "data": {
      "text/plain": [
       "188"
      ]
     },
     "execution_count": 116,
     "metadata": {},
     "output_type": "execute_result"
    }
   ],
   "source": [
    "#Subsetting to see countries that increased, then counting how many\n",
    "\n",
    "gdp_1990_2020[gdp_1990_2020['GDP_Increase'] == True].count()['GDP_Increase']"
   ]
  },
  {
   "cell_type": "code",
   "execution_count": 117,
   "id": "402623ba-abe4-49a8-bc4f-86a88add92c6",
   "metadata": {},
   "outputs": [
    {
     "data": {
      "text/plain": [
       "54"
      ]
     },
     "execution_count": 117,
     "metadata": {},
     "output_type": "execute_result"
    }
   ],
   "source": [
    "#Subsetting to see countries that decreased, then counting how many\n",
    "\n",
    "gdp_1990_2020[gdp_1990_2020['GDP_Increase'] == False].count()['GDP_Increase']"
   ]
  },
  {
   "cell_type": "code",
   "execution_count": 118,
   "id": "c9b01d44-275e-45f0-921c-0e3bc8541371",
   "metadata": {},
   "outputs": [
    {
     "data": {
      "text/html": [
       "<div>\n",
       "<style scoped>\n",
       "    .dataframe tbody tr th:only-of-type {\n",
       "        vertical-align: middle;\n",
       "    }\n",
       "\n",
       "    .dataframe tbody tr th {\n",
       "        vertical-align: top;\n",
       "    }\n",
       "\n",
       "    .dataframe thead th {\n",
       "        text-align: right;\n",
       "    }\n",
       "</style>\n",
       "<table border=\"1\" class=\"dataframe\">\n",
       "  <thead>\n",
       "    <tr style=\"text-align: right;\">\n",
       "      <th>Year</th>\n",
       "      <th>1990</th>\n",
       "      <th>2020</th>\n",
       "      <th>GDP_Increase</th>\n",
       "    </tr>\n",
       "    <tr>\n",
       "      <th>Country</th>\n",
       "      <th></th>\n",
       "      <th></th>\n",
       "      <th></th>\n",
       "    </tr>\n",
       "  </thead>\n",
       "  <tbody>\n",
       "    <tr>\n",
       "      <th>Afghanistan</th>\n",
       "      <td>NaN</td>\n",
       "      <td>1968.341002</td>\n",
       "      <td>False</td>\n",
       "    </tr>\n",
       "    <tr>\n",
       "      <th>Barbados</th>\n",
       "      <td>14097.395550</td>\n",
       "      <td>13805.777541</td>\n",
       "      <td>False</td>\n",
       "    </tr>\n",
       "    <tr>\n",
       "      <th>Bosnia and Herzegovina</th>\n",
       "      <td>NaN</td>\n",
       "      <td>14587.481737</td>\n",
       "      <td>False</td>\n",
       "    </tr>\n",
       "    <tr>\n",
       "      <th>Brunei</th>\n",
       "      <td>70358.724094</td>\n",
       "      <td>61603.550804</td>\n",
       "      <td>False</td>\n",
       "    </tr>\n",
       "    <tr>\n",
       "      <th>Burundi</th>\n",
       "      <td>1175.155086</td>\n",
       "      <td>711.355263</td>\n",
       "      <td>False</td>\n",
       "    </tr>\n",
       "    <tr>\n",
       "      <th>Cambodia</th>\n",
       "      <td>NaN</td>\n",
       "      <td>4276.184539</td>\n",
       "      <td>False</td>\n",
       "    </tr>\n",
       "    <tr>\n",
       "      <th>Cayman Islands</th>\n",
       "      <td>NaN</td>\n",
       "      <td>67530.693800</td>\n",
       "      <td>False</td>\n",
       "    </tr>\n",
       "    <tr>\n",
       "      <th>Central African Republic</th>\n",
       "      <td>1200.613390</td>\n",
       "      <td>847.765012</td>\n",
       "      <td>False</td>\n",
       "    </tr>\n",
       "    <tr>\n",
       "      <th>Congo</th>\n",
       "      <td>5007.319245</td>\n",
       "      <td>3384.654335</td>\n",
       "      <td>False</td>\n",
       "    </tr>\n",
       "    <tr>\n",
       "      <th>Croatia</th>\n",
       "      <td>NaN</td>\n",
       "      <td>26945.878450</td>\n",
       "      <td>False</td>\n",
       "    </tr>\n",
       "    <tr>\n",
       "      <th>CuraÃ§ao</th>\n",
       "      <td>NaN</td>\n",
       "      <td>19607.431876</td>\n",
       "      <td>False</td>\n",
       "    </tr>\n",
       "    <tr>\n",
       "      <th>Dem. Rep. Congo</th>\n",
       "      <td>1750.169739</td>\n",
       "      <td>1044.071214</td>\n",
       "      <td>False</td>\n",
       "    </tr>\n",
       "    <tr>\n",
       "      <th>Djibouti</th>\n",
       "      <td>NaN</td>\n",
       "      <td>4753.887886</td>\n",
       "      <td>False</td>\n",
       "    </tr>\n",
       "    <tr>\n",
       "      <th>Estonia</th>\n",
       "      <td>NaN</td>\n",
       "      <td>35883.265325</td>\n",
       "      <td>False</td>\n",
       "    </tr>\n",
       "    <tr>\n",
       "      <th>Fragile and conflict affected situations</th>\n",
       "      <td>4864.814075</td>\n",
       "      <td>4357.621312</td>\n",
       "      <td>False</td>\n",
       "    </tr>\n",
       "    <tr>\n",
       "      <th>Gabon</th>\n",
       "      <td>17559.006114</td>\n",
       "      <td>13903.288955</td>\n",
       "      <td>False</td>\n",
       "    </tr>\n",
       "    <tr>\n",
       "      <th>Guinea-Bissau</th>\n",
       "      <td>1998.173206</td>\n",
       "      <td>1803.630591</td>\n",
       "      <td>False</td>\n",
       "    </tr>\n",
       "    <tr>\n",
       "      <th>Haiti</th>\n",
       "      <td>3612.815105</td>\n",
       "      <td>2970.462845</td>\n",
       "      <td>False</td>\n",
       "    </tr>\n",
       "    <tr>\n",
       "      <th>Hungary</th>\n",
       "      <td>NaN</td>\n",
       "      <td>31232.101081</td>\n",
       "      <td>False</td>\n",
       "    </tr>\n",
       "    <tr>\n",
       "      <th>Iceland</th>\n",
       "      <td>NaN</td>\n",
       "      <td>51641.392081</td>\n",
       "      <td>False</td>\n",
       "    </tr>\n",
       "    <tr>\n",
       "      <th>Israel</th>\n",
       "      <td>NaN</td>\n",
       "      <td>39680.665870</td>\n",
       "      <td>False</td>\n",
       "    </tr>\n",
       "    <tr>\n",
       "      <th>Kiribati</th>\n",
       "      <td>2045.272278</td>\n",
       "      <td>1897.061922</td>\n",
       "      <td>False</td>\n",
       "    </tr>\n",
       "    <tr>\n",
       "      <th>Kosovo</th>\n",
       "      <td>NaN</td>\n",
       "      <td>10706.513976</td>\n",
       "      <td>False</td>\n",
       "    </tr>\n",
       "    <tr>\n",
       "      <th>Kuwait</th>\n",
       "      <td>NaN</td>\n",
       "      <td>43922.630210</td>\n",
       "      <td>False</td>\n",
       "    </tr>\n",
       "    <tr>\n",
       "      <th>Kyrgyz Republic</th>\n",
       "      <td>5158.317569</td>\n",
       "      <td>4726.196559</td>\n",
       "      <td>False</td>\n",
       "    </tr>\n",
       "    <tr>\n",
       "      <th>Latvia</th>\n",
       "      <td>NaN</td>\n",
       "      <td>30568.501816</td>\n",
       "      <td>False</td>\n",
       "    </tr>\n",
       "    <tr>\n",
       "      <th>Liberia</th>\n",
       "      <td>NaN</td>\n",
       "      <td>1383.828099</td>\n",
       "      <td>False</td>\n",
       "    </tr>\n",
       "    <tr>\n",
       "      <th>Libya</th>\n",
       "      <td>NaN</td>\n",
       "      <td>15621.000033</td>\n",
       "      <td>False</td>\n",
       "    </tr>\n",
       "    <tr>\n",
       "      <th>Lithuania</th>\n",
       "      <td>NaN</td>\n",
       "      <td>37166.296057</td>\n",
       "      <td>False</td>\n",
       "    </tr>\n",
       "    <tr>\n",
       "      <th>Madagascar</th>\n",
       "      <td>1808.743539</td>\n",
       "      <td>1436.206950</td>\n",
       "      <td>False</td>\n",
       "    </tr>\n",
       "    <tr>\n",
       "      <th>Maldives</th>\n",
       "      <td>NaN</td>\n",
       "      <td>13419.334551</td>\n",
       "      <td>False</td>\n",
       "    </tr>\n",
       "    <tr>\n",
       "      <th>Moldova</th>\n",
       "      <td>NaN</td>\n",
       "      <td>11848.899527</td>\n",
       "      <td>False</td>\n",
       "    </tr>\n",
       "    <tr>\n",
       "      <th>Montenegro</th>\n",
       "      <td>NaN</td>\n",
       "      <td>18258.976367</td>\n",
       "      <td>False</td>\n",
       "    </tr>\n",
       "    <tr>\n",
       "      <th>Nauru</th>\n",
       "      <td>NaN</td>\n",
       "      <td>10812.889284</td>\n",
       "      <td>False</td>\n",
       "    </tr>\n",
       "    <tr>\n",
       "      <th>Other small states</th>\n",
       "      <td>NaN</td>\n",
       "      <td>20962.591611</td>\n",
       "      <td>False</td>\n",
       "    </tr>\n",
       "    <tr>\n",
       "      <th>Palau</th>\n",
       "      <td>NaN</td>\n",
       "      <td>15952.527357</td>\n",
       "      <td>False</td>\n",
       "    </tr>\n",
       "    <tr>\n",
       "      <th>Qatar</th>\n",
       "      <td>NaN</td>\n",
       "      <td>89019.069857</td>\n",
       "      <td>False</td>\n",
       "    </tr>\n",
       "    <tr>\n",
       "      <th>San Marino</th>\n",
       "      <td>NaN</td>\n",
       "      <td>56364.214163</td>\n",
       "      <td>False</td>\n",
       "    </tr>\n",
       "    <tr>\n",
       "      <th>Serbia</th>\n",
       "      <td>NaN</td>\n",
       "      <td>18262.706402</td>\n",
       "      <td>False</td>\n",
       "    </tr>\n",
       "    <tr>\n",
       "      <th>Sint Maarten (Dutch part)</th>\n",
       "      <td>NaN</td>\n",
       "      <td>30850.916580</td>\n",
       "      <td>False</td>\n",
       "    </tr>\n",
       "    <tr>\n",
       "      <th>Slovak Republic</th>\n",
       "      <td>NaN</td>\n",
       "      <td>30960.257300</td>\n",
       "      <td>False</td>\n",
       "    </tr>\n",
       "    <tr>\n",
       "      <th>Slovenia</th>\n",
       "      <td>NaN</td>\n",
       "      <td>37098.119340</td>\n",
       "      <td>False</td>\n",
       "    </tr>\n",
       "    <tr>\n",
       "      <th>Small states</th>\n",
       "      <td>NaN</td>\n",
       "      <td>19026.366476</td>\n",
       "      <td>False</td>\n",
       "    </tr>\n",
       "    <tr>\n",
       "      <th>Somalia</th>\n",
       "      <td>NaN</td>\n",
       "      <td>1127.418534</td>\n",
       "      <td>False</td>\n",
       "    </tr>\n",
       "    <tr>\n",
       "      <th>SÃ£o TomÃ© and Principe</th>\n",
       "      <td>NaN</td>\n",
       "      <td>4058.674003</td>\n",
       "      <td>False</td>\n",
       "    </tr>\n",
       "    <tr>\n",
       "      <th>Tajikistan</th>\n",
       "      <td>3990.869035</td>\n",
       "      <td>3651.942660</td>\n",
       "      <td>False</td>\n",
       "    </tr>\n",
       "    <tr>\n",
       "      <th>The Bahamas</th>\n",
       "      <td>35674.455631</td>\n",
       "      <td>25780.414176</td>\n",
       "      <td>False</td>\n",
       "    </tr>\n",
       "    <tr>\n",
       "      <th>The Gambia</th>\n",
       "      <td>2080.158085</td>\n",
       "      <td>2042.620289</td>\n",
       "      <td>False</td>\n",
       "    </tr>\n",
       "    <tr>\n",
       "      <th>Timor-Leste</th>\n",
       "      <td>NaN</td>\n",
       "      <td>4856.518291</td>\n",
       "      <td>False</td>\n",
       "    </tr>\n",
       "    <tr>\n",
       "      <th>Turks and Caicos Islands</th>\n",
       "      <td>NaN</td>\n",
       "      <td>18474.865995</td>\n",
       "      <td>False</td>\n",
       "    </tr>\n",
       "    <tr>\n",
       "      <th>Ukraine</th>\n",
       "      <td>16428.480469</td>\n",
       "      <td>12407.790039</td>\n",
       "      <td>False</td>\n",
       "    </tr>\n",
       "    <tr>\n",
       "      <th>United Arab Emirates</th>\n",
       "      <td>105893.626059</td>\n",
       "      <td>67668.286641</td>\n",
       "      <td>False</td>\n",
       "    </tr>\n",
       "    <tr>\n",
       "      <th>West Bank and Gaza</th>\n",
       "      <td>NaN</td>\n",
       "      <td>5402.538773</td>\n",
       "      <td>False</td>\n",
       "    </tr>\n",
       "    <tr>\n",
       "      <th>Zimbabwe</th>\n",
       "      <td>2704.757299</td>\n",
       "      <td>1990.319419</td>\n",
       "      <td>False</td>\n",
       "    </tr>\n",
       "  </tbody>\n",
       "</table>\n",
       "</div>"
      ],
      "text/plain": [
       "Year                                               1990          2020  \\\n",
       "Country                                                                 \n",
       "Afghanistan                                         NaN   1968.341002   \n",
       "Barbados                                   14097.395550  13805.777541   \n",
       "Bosnia and Herzegovina                              NaN  14587.481737   \n",
       "Brunei                                     70358.724094  61603.550804   \n",
       "Burundi                                     1175.155086    711.355263   \n",
       "Cambodia                                            NaN   4276.184539   \n",
       "Cayman Islands                                      NaN  67530.693800   \n",
       "Central African Republic                    1200.613390    847.765012   \n",
       "Congo                                       5007.319245   3384.654335   \n",
       "Croatia                                             NaN  26945.878450   \n",
       "CuraÃ§ao                                            NaN  19607.431876   \n",
       "Dem. Rep. Congo                             1750.169739   1044.071214   \n",
       "Djibouti                                            NaN   4753.887886   \n",
       "Estonia                                             NaN  35883.265325   \n",
       "Fragile and conflict affected situations    4864.814075   4357.621312   \n",
       "Gabon                                      17559.006114  13903.288955   \n",
       "Guinea-Bissau                               1998.173206   1803.630591   \n",
       "Haiti                                       3612.815105   2970.462845   \n",
       "Hungary                                             NaN  31232.101081   \n",
       "Iceland                                             NaN  51641.392081   \n",
       "Israel                                              NaN  39680.665870   \n",
       "Kiribati                                    2045.272278   1897.061922   \n",
       "Kosovo                                              NaN  10706.513976   \n",
       "Kuwait                                              NaN  43922.630210   \n",
       "Kyrgyz Republic                             5158.317569   4726.196559   \n",
       "Latvia                                              NaN  30568.501816   \n",
       "Liberia                                             NaN   1383.828099   \n",
       "Libya                                               NaN  15621.000033   \n",
       "Lithuania                                           NaN  37166.296057   \n",
       "Madagascar                                  1808.743539   1436.206950   \n",
       "Maldives                                            NaN  13419.334551   \n",
       "Moldova                                             NaN  11848.899527   \n",
       "Montenegro                                          NaN  18258.976367   \n",
       "Nauru                                               NaN  10812.889284   \n",
       "Other small states                                  NaN  20962.591611   \n",
       "Palau                                               NaN  15952.527357   \n",
       "Qatar                                               NaN  89019.069857   \n",
       "San Marino                                          NaN  56364.214163   \n",
       "Serbia                                              NaN  18262.706402   \n",
       "Sint Maarten (Dutch part)                           NaN  30850.916580   \n",
       "Slovak Republic                                     NaN  30960.257300   \n",
       "Slovenia                                            NaN  37098.119340   \n",
       "Small states                                        NaN  19026.366476   \n",
       "Somalia                                             NaN   1127.418534   \n",
       "SÃ£o TomÃ© and Principe                             NaN   4058.674003   \n",
       "Tajikistan                                  3990.869035   3651.942660   \n",
       "The Bahamas                                35674.455631  25780.414176   \n",
       "The Gambia                                  2080.158085   2042.620289   \n",
       "Timor-Leste                                         NaN   4856.518291   \n",
       "Turks and Caicos Islands                            NaN  18474.865995   \n",
       "Ukraine                                    16428.480469  12407.790039   \n",
       "United Arab Emirates                      105893.626059  67668.286641   \n",
       "West Bank and Gaza                                  NaN   5402.538773   \n",
       "Zimbabwe                                    2704.757299   1990.319419   \n",
       "\n",
       "Year                                      GDP_Increase  \n",
       "Country                                                 \n",
       "Afghanistan                                      False  \n",
       "Barbados                                         False  \n",
       "Bosnia and Herzegovina                           False  \n",
       "Brunei                                           False  \n",
       "Burundi                                          False  \n",
       "Cambodia                                         False  \n",
       "Cayman Islands                                   False  \n",
       "Central African Republic                         False  \n",
       "Congo                                            False  \n",
       "Croatia                                          False  \n",
       "CuraÃ§ao                                         False  \n",
       "Dem. Rep. Congo                                  False  \n",
       "Djibouti                                         False  \n",
       "Estonia                                          False  \n",
       "Fragile and conflict affected situations         False  \n",
       "Gabon                                            False  \n",
       "Guinea-Bissau                                    False  \n",
       "Haiti                                            False  \n",
       "Hungary                                          False  \n",
       "Iceland                                          False  \n",
       "Israel                                           False  \n",
       "Kiribati                                         False  \n",
       "Kosovo                                           False  \n",
       "Kuwait                                           False  \n",
       "Kyrgyz Republic                                  False  \n",
       "Latvia                                           False  \n",
       "Liberia                                          False  \n",
       "Libya                                            False  \n",
       "Lithuania                                        False  \n",
       "Madagascar                                       False  \n",
       "Maldives                                         False  \n",
       "Moldova                                          False  \n",
       "Montenegro                                       False  \n",
       "Nauru                                            False  \n",
       "Other small states                               False  \n",
       "Palau                                            False  \n",
       "Qatar                                            False  \n",
       "San Marino                                       False  \n",
       "Serbia                                           False  \n",
       "Sint Maarten (Dutch part)                        False  \n",
       "Slovak Republic                                  False  \n",
       "Slovenia                                         False  \n",
       "Small states                                     False  \n",
       "Somalia                                          False  \n",
       "SÃ£o TomÃ© and Principe                          False  \n",
       "Tajikistan                                       False  \n",
       "The Bahamas                                      False  \n",
       "The Gambia                                       False  \n",
       "Timor-Leste                                      False  \n",
       "Turks and Caicos Islands                         False  \n",
       "Ukraine                                          False  \n",
       "United Arab Emirates                             False  \n",
       "West Bank and Gaza                               False  \n",
       "Zimbabwe                                         False  "
      ]
     },
     "execution_count": 118,
     "metadata": {},
     "output_type": "execute_result"
    }
   ],
   "source": [
    "#Here are the countries that did not increase GDP from 1990 to 2020\n",
    "\n",
    "gdp_1990_2020[gdp_1990_2020['GDP_Increase'] == False]"
   ]
  },
  {
   "cell_type": "markdown",
   "id": "9ccac7cb-190f-4979-a0ac-51a62f984b5c",
   "metadata": {},
   "source": [
    "# Answer: \n",
    "Burundi"
   ]
  },
  {
   "cell_type": "markdown",
   "id": "0a15fac8-5e70-4ce4-b4af-752345f8a50e",
   "metadata": {},
   "source": [
    "# Bonus:\n",
    "From 1990 to 2020, 188 countries increased GDP while 54 countries did not. So yes, countries typically increased GDP over this time period. You can see the exceptions in the output above."
   ]
  },
  {
   "cell_type": "markdown",
   "id": "17c65389-d52b-4c55-940d-0d4b0cf560bf",
   "metadata": {},
   "source": [
    "# Q14\n",
    "Read in the internet use dataset into a DataFrame named internet_df. You will likely get errors when doing this. Check the arguments for the read_csv function to find ones that can help correct the errors (https://pandas.pydata.org/docs/reference/api/pandas.read_csv.html) Once you are able to read it in, take per a look at the top and bottom few rows to make sure that it has been read in correctly. Also, check the datatypes of the columns."
   ]
  },
  {
   "cell_type": "code",
   "execution_count": 119,
   "id": "57fd0790-28a8-4f4e-a095-d0f353f4b341",
   "metadata": {},
   "outputs": [
    {
     "data": {
      "text/html": [
       "<div>\n",
       "<style scoped>\n",
       "    .dataframe tbody tr th:only-of-type {\n",
       "        vertical-align: middle;\n",
       "    }\n",
       "\n",
       "    .dataframe tbody tr th {\n",
       "        vertical-align: top;\n",
       "    }\n",
       "\n",
       "    .dataframe thead th {\n",
       "        text-align: right;\n",
       "    }\n",
       "</style>\n",
       "<table border=\"1\" class=\"dataframe\">\n",
       "  <thead>\n",
       "    <tr style=\"text-align: right;\">\n",
       "      <th></th>\n",
       "      <th>Country or Area</th>\n",
       "      <th>Year</th>\n",
       "      <th>Value</th>\n",
       "      <th>Value Footnotes</th>\n",
       "    </tr>\n",
       "  </thead>\n",
       "  <tbody>\n",
       "    <tr>\n",
       "      <th>0</th>\n",
       "      <td>Afghanistan</td>\n",
       "      <td>2014</td>\n",
       "      <td>6.390000</td>\n",
       "      <td>NaN</td>\n",
       "    </tr>\n",
       "    <tr>\n",
       "      <th>1</th>\n",
       "      <td>Afghanistan</td>\n",
       "      <td>2013</td>\n",
       "      <td>5.900000</td>\n",
       "      <td>NaN</td>\n",
       "    </tr>\n",
       "    <tr>\n",
       "      <th>2</th>\n",
       "      <td>Afghanistan</td>\n",
       "      <td>2012</td>\n",
       "      <td>5.454545</td>\n",
       "      <td>NaN</td>\n",
       "    </tr>\n",
       "    <tr>\n",
       "      <th>3</th>\n",
       "      <td>Afghanistan</td>\n",
       "      <td>2011</td>\n",
       "      <td>5.000000</td>\n",
       "      <td>NaN</td>\n",
       "    </tr>\n",
       "    <tr>\n",
       "      <th>4</th>\n",
       "      <td>Afghanistan</td>\n",
       "      <td>2010</td>\n",
       "      <td>4.000000</td>\n",
       "      <td>NaN</td>\n",
       "    </tr>\n",
       "  </tbody>\n",
       "</table>\n",
       "</div>"
      ],
      "text/plain": [
       "  Country or Area  Year     Value  Value Footnotes\n",
       "0     Afghanistan  2014  6.390000              NaN\n",
       "1     Afghanistan  2013  5.900000              NaN\n",
       "2     Afghanistan  2012  5.454545              NaN\n",
       "3     Afghanistan  2011  5.000000              NaN\n",
       "4     Afghanistan  2010  4.000000              NaN"
      ]
     },
     "execution_count": 119,
     "metadata": {},
     "output_type": "execute_result"
    }
   ],
   "source": [
    "#Importing and previewing the CSV, removing bad lines\n",
    "\n",
    "internet_df = pd.read_csv('../data/internet_use.csv', \n",
    "                          on_bad_lines='skip')\n",
    "\n",
    "internet_df = internet_df[internet_df['Value'].notna()] #There were some rows where data was in the wrong column\n",
    "\n",
    "internet_df.head()"
   ]
  },
  {
   "cell_type": "markdown",
   "id": "60f498c0-d7ec-4978-aa9a-211e107536d9",
   "metadata": {},
   "source": [
    "# Q15\n",
    "Drop the Value Footnotes column and rename the remaining three to 'Country', 'Year', and 'Internet_Users_Pct'."
   ]
  },
  {
   "cell_type": "code",
   "execution_count": 120,
   "id": "871ce8f6-0e24-47e2-ae6f-15414e459dcf",
   "metadata": {},
   "outputs": [],
   "source": [
    "#Dropping footnotes and renaming columns\n",
    "\n",
    "internet_df = internet_df.drop(columns='Value Footnotes')\\\n",
    "                         .rename(columns={'Country or Area':'Country', \n",
    "                                'Value':'Internet_Users_Pct'})"
   ]
  },
  {
   "cell_type": "markdown",
   "id": "df80fe8c-e5d4-4b76-a85e-7ffe66f10589",
   "metadata": {},
   "source": [
    "# Q16\n",
    "Look at the number of observations in this dataset per year. What do you notice?"
   ]
  },
  {
   "cell_type": "code",
   "execution_count": 137,
   "id": "4bd455fd-b730-448c-9875-29a9968b4514",
   "metadata": {},
   "outputs": [
    {
     "data": {
      "text/html": [
       "<div>\n",
       "<style scoped>\n",
       "    .dataframe tbody tr th:only-of-type {\n",
       "        vertical-align: middle;\n",
       "    }\n",
       "\n",
       "    .dataframe tbody tr th {\n",
       "        vertical-align: top;\n",
       "    }\n",
       "\n",
       "    .dataframe thead th {\n",
       "        text-align: right;\n",
       "    }\n",
       "</style>\n",
       "<table border=\"1\" class=\"dataframe\">\n",
       "  <thead>\n",
       "    <tr style=\"text-align: right;\">\n",
       "      <th></th>\n",
       "      <th>Num_Countries</th>\n",
       "    </tr>\n",
       "    <tr>\n",
       "      <th>Year</th>\n",
       "      <th></th>\n",
       "    </tr>\n",
       "  </thead>\n",
       "  <tbody>\n",
       "    <tr>\n",
       "      <th>1960</th>\n",
       "      <td>7</td>\n",
       "    </tr>\n",
       "    <tr>\n",
       "      <th>1965</th>\n",
       "      <td>7</td>\n",
       "    </tr>\n",
       "    <tr>\n",
       "      <th>1970</th>\n",
       "      <td>7</td>\n",
       "    </tr>\n",
       "    <tr>\n",
       "      <th>1975</th>\n",
       "      <td>7</td>\n",
       "    </tr>\n",
       "    <tr>\n",
       "      <th>1976</th>\n",
       "      <td>7</td>\n",
       "    </tr>\n",
       "    <tr>\n",
       "      <th>1977</th>\n",
       "      <td>7</td>\n",
       "    </tr>\n",
       "    <tr>\n",
       "      <th>1978</th>\n",
       "      <td>7</td>\n",
       "    </tr>\n",
       "    <tr>\n",
       "      <th>1979</th>\n",
       "      <td>7</td>\n",
       "    </tr>\n",
       "    <tr>\n",
       "      <th>1980</th>\n",
       "      <td>7</td>\n",
       "    </tr>\n",
       "    <tr>\n",
       "      <th>1981</th>\n",
       "      <td>7</td>\n",
       "    </tr>\n",
       "    <tr>\n",
       "      <th>1982</th>\n",
       "      <td>7</td>\n",
       "    </tr>\n",
       "    <tr>\n",
       "      <th>1983</th>\n",
       "      <td>7</td>\n",
       "    </tr>\n",
       "    <tr>\n",
       "      <th>1984</th>\n",
       "      <td>7</td>\n",
       "    </tr>\n",
       "    <tr>\n",
       "      <th>1985</th>\n",
       "      <td>7</td>\n",
       "    </tr>\n",
       "    <tr>\n",
       "      <th>1986</th>\n",
       "      <td>7</td>\n",
       "    </tr>\n",
       "    <tr>\n",
       "      <th>1987</th>\n",
       "      <td>7</td>\n",
       "    </tr>\n",
       "    <tr>\n",
       "      <th>1988</th>\n",
       "      <td>7</td>\n",
       "    </tr>\n",
       "    <tr>\n",
       "      <th>1989</th>\n",
       "      <td>8</td>\n",
       "    </tr>\n",
       "    <tr>\n",
       "      <th>1990</th>\n",
       "      <td>210</td>\n",
       "    </tr>\n",
       "    <tr>\n",
       "      <th>1991</th>\n",
       "      <td>39</td>\n",
       "    </tr>\n",
       "    <tr>\n",
       "      <th>1992</th>\n",
       "      <td>50</td>\n",
       "    </tr>\n",
       "    <tr>\n",
       "      <th>1993</th>\n",
       "      <td>65</td>\n",
       "    </tr>\n",
       "    <tr>\n",
       "      <th>1994</th>\n",
       "      <td>91</td>\n",
       "    </tr>\n",
       "    <tr>\n",
       "      <th>1995</th>\n",
       "      <td>138</td>\n",
       "    </tr>\n",
       "    <tr>\n",
       "      <th>1996</th>\n",
       "      <td>175</td>\n",
       "    </tr>\n",
       "    <tr>\n",
       "      <th>1997</th>\n",
       "      <td>184</td>\n",
       "    </tr>\n",
       "    <tr>\n",
       "      <th>1998</th>\n",
       "      <td>190</td>\n",
       "    </tr>\n",
       "    <tr>\n",
       "      <th>1999</th>\n",
       "      <td>198</td>\n",
       "    </tr>\n",
       "    <tr>\n",
       "      <th>2000</th>\n",
       "      <td>199</td>\n",
       "    </tr>\n",
       "    <tr>\n",
       "      <th>2001</th>\n",
       "      <td>201</td>\n",
       "    </tr>\n",
       "    <tr>\n",
       "      <th>2002</th>\n",
       "      <td>202</td>\n",
       "    </tr>\n",
       "    <tr>\n",
       "      <th>2003</th>\n",
       "      <td>196</td>\n",
       "    </tr>\n",
       "    <tr>\n",
       "      <th>2004</th>\n",
       "      <td>199</td>\n",
       "    </tr>\n",
       "    <tr>\n",
       "      <th>2005</th>\n",
       "      <td>201</td>\n",
       "    </tr>\n",
       "    <tr>\n",
       "      <th>2006</th>\n",
       "      <td>200</td>\n",
       "    </tr>\n",
       "    <tr>\n",
       "      <th>2007</th>\n",
       "      <td>206</td>\n",
       "    </tr>\n",
       "    <tr>\n",
       "      <th>2008</th>\n",
       "      <td>204</td>\n",
       "    </tr>\n",
       "    <tr>\n",
       "      <th>2009</th>\n",
       "      <td>203</td>\n",
       "    </tr>\n",
       "    <tr>\n",
       "      <th>2010</th>\n",
       "      <td>203</td>\n",
       "    </tr>\n",
       "    <tr>\n",
       "      <th>2011</th>\n",
       "      <td>207</td>\n",
       "    </tr>\n",
       "    <tr>\n",
       "      <th>2012</th>\n",
       "      <td>203</td>\n",
       "    </tr>\n",
       "    <tr>\n",
       "      <th>2013</th>\n",
       "      <td>202</td>\n",
       "    </tr>\n",
       "    <tr>\n",
       "      <th>2014</th>\n",
       "      <td>202</td>\n",
       "    </tr>\n",
       "  </tbody>\n",
       "</table>\n",
       "</div>"
      ],
      "text/plain": [
       "      Num_Countries\n",
       "Year               \n",
       "1960              7\n",
       "1965              7\n",
       "1970              7\n",
       "1975              7\n",
       "1976              7\n",
       "1977              7\n",
       "1978              7\n",
       "1979              7\n",
       "1980              7\n",
       "1981              7\n",
       "1982              7\n",
       "1983              7\n",
       "1984              7\n",
       "1985              7\n",
       "1986              7\n",
       "1987              7\n",
       "1988              7\n",
       "1989              8\n",
       "1990            210\n",
       "1991             39\n",
       "1992             50\n",
       "1993             65\n",
       "1994             91\n",
       "1995            138\n",
       "1996            175\n",
       "1997            184\n",
       "1998            190\n",
       "1999            198\n",
       "2000            199\n",
       "2001            201\n",
       "2002            202\n",
       "2003            196\n",
       "2004            199\n",
       "2005            201\n",
       "2006            200\n",
       "2007            206\n",
       "2008            204\n",
       "2009            203\n",
       "2010            203\n",
       "2011            207\n",
       "2012            203\n",
       "2013            202\n",
       "2014            202"
      ]
     },
     "execution_count": 137,
     "metadata": {},
     "output_type": "execute_result"
    }
   ],
   "source": [
    "#Number of observations per year\n",
    "\n",
    "#Creating series counting number of countries per year, turning into DataFrame, and renaming columns\n",
    "\n",
    "internet_countries_per_year = internet_df.groupby('Year')['Country']\\\n",
    "                                         .count()\\\n",
    "                                         .to_frame()\\\n",
    "                                         .rename(columns={'Country':'Num_Countries'})\n",
    "\n",
    "internet_countries_per_year"
   ]
  },
  {
   "cell_type": "markdown",
   "id": "bb53bed9-0cb1-4304-bcee-5eca6162e834",
   "metadata": {},
   "source": [
    "# Answer:\n",
    "There is a huge spike in internet usage in 1990, an immediate drop, then numbers increase again in the mid/late nineties."
   ]
  },
  {
   "cell_type": "markdown",
   "id": "568af785-0b68-4813-b457-2b0c6e78dfa5",
   "metadata": {},
   "source": [
    "# Q17 \n",
    "What is the first year to have a non-zero internet users percentage value?"
   ]
  },
  {
   "cell_type": "code",
   "execution_count": null,
   "id": "56bc2776-da60-4a61-ab65-49a6baac7463",
   "metadata": {},
   "outputs": [],
   "source": []
  },
  {
   "cell_type": "markdown",
   "id": "0ccf364c-889f-44a9-8fad-9a80cacc6118",
   "metadata": {},
   "source": [
    "# Q18\n",
    "How does the distribution of internet users percent differ for 2000 and 2014?"
   ]
  },
  {
   "cell_type": "code",
   "execution_count": null,
   "id": "b3726409-809b-4eff-98ce-5c9dff29f269",
   "metadata": {},
   "outputs": [],
   "source": []
  },
  {
   "cell_type": "markdown",
   "id": "35d6ac79-abc0-4b83-b511-01af0c4e069b",
   "metadata": {},
   "source": [
    "# Questions & To Do\n",
    "\n",
    "FutureWarnings - ignore?\n",
    "\n",
    "Formatting\n"
   ]
  },
  {
   "cell_type": "code",
   "execution_count": null,
   "id": "119fe105-e3a3-47e6-a8d8-ac024826a470",
   "metadata": {},
   "outputs": [],
   "source": []
  }
 ],
 "metadata": {
  "kernelspec": {
   "display_name": "Python 3 (ipykernel)",
   "language": "python",
   "name": "python3"
  },
  "language_info": {
   "codemirror_mode": {
    "name": "ipython",
    "version": 3
   },
   "file_extension": ".py",
   "mimetype": "text/x-python",
   "name": "python",
   "nbconvert_exporter": "python",
   "pygments_lexer": "ipython3",
   "version": "3.11.7"
  }
 },
 "nbformat": 4,
 "nbformat_minor": 5
}
